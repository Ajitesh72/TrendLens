{
  "nbformat": 4,
  "nbformat_minor": 0,
  "metadata": {
    "colab": {
      "provenance": []
    },
    "kernelspec": {
      "name": "python3",
      "display_name": "Python 3"
    },
    "language_info": {
      "name": "python"
    }
  },
  "cells": [
    {
      "cell_type": "code",
      "execution_count": 1,
      "metadata": {
        "id": "HLWX53X0YO-H"
      },
      "outputs": [],
      "source": [
        "!pip install -q -U google-generativeai"
      ]
    },
    {
      "cell_type": "code",
      "source": [
        "import pathlib\n",
        "import textwrap\n",
        "\n",
        "import google.generativeai as genai\n",
        "\n",
        "from IPython.display import display\n",
        "from IPython.display import Markdown\n",
        "\n",
        "\n",
        "def to_markdown(text):\n",
        "  text = text.replace('•', '  *')\n",
        "  return Markdown(textwrap.indent(text, '> ', predicate=lambda _: True))"
      ],
      "metadata": {
        "id": "LVeyZ-R6YQft"
      },
      "execution_count": 2,
      "outputs": []
    },
    {
      "cell_type": "code",
      "source": [
        "# Used to securely store your API key\n",
        "from google.colab import userdata"
      ],
      "metadata": {
        "id": "beO5lNBHYVOu"
      },
      "execution_count": 3,
      "outputs": []
    },
    {
      "cell_type": "code",
      "source": [
        "# Or use `os.getenv('GOOGLE_API_KEY')` to fetch an environment variable.\n",
        "GOOGLE_API_KEY=userdata.get('GOOGLE_API_KEY')\n",
        "\n",
        "genai.configure(api_key=GOOGLE_API_KEY)"
      ],
      "metadata": {
        "id": "UdF1Nrf7YZGU"
      },
      "execution_count": 4,
      "outputs": []
    },
    {
      "cell_type": "code",
      "source": [
        "model = genai.GenerativeModel('gemini-pro')"
      ],
      "metadata": {
        "id": "mjulBQ3lYrwk"
      },
      "execution_count": 5,
      "outputs": []
    },
    {
      "cell_type": "code",
      "source": [
        "user_data=input('Enter your prompt')"
      ],
      "metadata": {
        "colab": {
          "base_uri": "https://localhost:8080/"
        },
        "id": "T3KfD9ezYwaU",
        "outputId": "2a3f8bf2-9f1d-4761-da4b-07d1935663a2"
      },
      "execution_count": 6,
      "outputs": [
        {
          "name": "stdout",
          "output_type": "stream",
          "text": [
            "Enter your prompttravelling with friends on beach with sunshine\n"
          ]
        }
      ]
    },
    {
      "cell_type": "code",
      "source": [
        "%%time\n",
        "text_to_generate = f\"generate hashtags on: {user_data}\"\n",
        "response = model.generate_content(text_to_generate)"
      ],
      "metadata": {
        "colab": {
          "base_uri": "https://localhost:8080/",
          "height": 53
        },
        "id": "ZYwmwsKYY2ig",
        "outputId": "7e769ecf-3dcb-4b57-ef27-330ea8b8ec4f"
      },
      "execution_count": 7,
      "outputs": [
        {
          "output_type": "stream",
          "name": "stdout",
          "text": [
            "CPU times: user 134 ms, sys: 12.2 ms, total: 146 ms\n",
            "Wall time: 9.13 s\n"
          ]
        }
      ]
    },
    {
      "cell_type": "code",
      "source": [
        "to_markdown(response.text)"
      ],
      "metadata": {
        "colab": {
          "base_uri": "https://localhost:8080/",
          "height": 576
        },
        "id": "9gRk9etpZCMZ",
        "outputId": "21b30878-11d6-4cf2-d33b-b0999c076e1b"
      },
      "execution_count": 8,
      "outputs": [
        {
          "output_type": "execute_result",
          "data": {
            "text/plain": [
              "<IPython.core.display.Markdown object>"
            ],
            "text/markdown": "> #BeachBffs\n> #FriendcationVibes\n> #SandySquad\n> #SunshineSiesta\n> #BeachBestiesForever\n> #SquadGoalsByTheShore\n> #VitaminSeaSquad\n> #TropicLikeItsHotWithFriends\n> #SaltyHairDontCareWithFriends\n> #EndlessSummerMemories\n> #SquadsOnTheSand\n> #SeasTheDayWithFriends\n> #TanLinesAndGoodTimes\n> #BeachPartyPosse\n> #BikinisAndBuddies\n> #MermaidMagicWithFriends\n> #SandytoesAndSisterhood\n> #SandcastlesAndSelfies\n> #BFFBeachBreakers\n> #VacationVibesWithFriends\n> #SeashellsAndShenanigans\n> #LaughterAndLobstersWithFriends\n> #WavesAndWonderWithFriends"
          },
          "metadata": {},
          "execution_count": 8
        }
      ]
    },
    {
      "cell_type": "code",
      "source": [
        "%%time\n",
        "response = model.generate_content(text_to_generate, stream=False)"
      ],
      "metadata": {
        "colab": {
          "base_uri": "https://localhost:8080/",
          "height": 53
        },
        "id": "UvE-7ToCZFYM",
        "outputId": "9bef7483-883d-4d78-b1de-bf4d9233138e"
      },
      "execution_count": 9,
      "outputs": [
        {
          "output_type": "stream",
          "name": "stdout",
          "text": [
            "CPU times: user 70.8 ms, sys: 10.1 ms, total: 80.9 ms\n",
            "Wall time: 5.22 s\n"
          ]
        }
      ]
    },
    {
      "cell_type": "code",
      "source": [
        "for chunk in response:\n",
        "  print(chunk.text)\n",
        "  print(\"_\"*80)"
      ],
      "metadata": {
        "colab": {
          "base_uri": "https://localhost:8080/"
        },
        "id": "2hUrgHdrZOjG",
        "outputId": "0621db64-70e7-49fd-a6aa-3263b7ed1fac"
      },
      "execution_count": 10,
      "outputs": [
        {
          "output_type": "stream",
          "name": "stdout",
          "text": [
            "#BeachBesties\n",
            "#SunnySquad\n",
            "#FriendshipGoals\n",
            "#SeasTheDay\n",
            "#SquadGoals\n",
            "#BeachVibes\n",
            "#EndlessSummer\n",
            "#BikiniBabes\n",
            "#SummerLovin\n",
            "#SaltyHairDontCare\n",
            "#GoodTimesAndTanLines\n",
            "#BeachPlease\n",
            "#ParadiseFound\n",
            "#CoastalLiving\n",
            "#BeachLife\n",
            "#ShoreThing\n",
            "#SandAndSun\n",
            "#SummerFun\n",
            "#BeachDays\n",
            "#VacationMode\n",
            "#SunKissed\n",
            "#SaltyAirTherapy\n",
            "#SandyToes\n",
            "________________________________________________________________________________\n"
          ]
        }
      ]
    },
    {
      "cell_type": "code",
      "source": [],
      "metadata": {
        "id": "DSDIjxU-ZSlt"
      },
      "execution_count": null,
      "outputs": []
    }
  ]
}