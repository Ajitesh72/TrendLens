{
  "nbformat": 4,
  "nbformat_minor": 0,
  "metadata": {
    "colab": {
      "provenance": []
    },
    "kernelspec": {
      "name": "python3",
      "display_name": "Python 3"
    },
    "language_info": {
      "name": "python"
    }
  },
  "cells": [
    {
      "cell_type": "code",
      "source": [
        "!pip install -q -U google-generativeai"
      ],
      "metadata": {
        "id": "ql3_RsTRxSeO"
      },
      "execution_count": 36,
      "outputs": []
    },
    {
      "cell_type": "code",
      "source": [
        "import pathlib\n",
        "import textwrap\n",
        "\n",
        "import google.generativeai as genai\n",
        "\n",
        "from IPython.display import display\n",
        "from IPython.display import Markdown\n",
        "\n",
        "\n",
        "def to_markdown(text):\n",
        "  text = text.replace('•', '  *')\n",
        "  return Markdown(textwrap.indent(text, '> ', predicate=lambda _: True))"
      ],
      "metadata": {
        "id": "zxnrDl4lIMJu"
      },
      "execution_count": 37,
      "outputs": []
    },
    {
      "cell_type": "code",
      "source": [
        "from google.colab import userdata"
      ],
      "metadata": {
        "id": "GjD_rzShIO5_"
      },
      "execution_count": 3,
      "outputs": []
    },
    {
      "cell_type": "code",
      "source": [
        "GOOGLE_API_KEY=userdata.get('GOOGLE_API_KEY')\n",
        "\n",
        "genai.configure(api_key=GOOGLE_API_KEY)"
      ],
      "metadata": {
        "id": "XRbxSMJqIRur"
      },
      "execution_count": 4,
      "outputs": []
    },
    {
      "cell_type": "code",
      "source": [
        "model = genai.GenerativeModel('gemini-pro')"
      ],
      "metadata": {
        "id": "AhwV_pkWIUDS"
      },
      "execution_count": 5,
      "outputs": []
    },
    {
      "cell_type": "code",
      "source": [
        "user_caption=input()"
      ],
      "metadata": {
        "colab": {
          "base_uri": "https://localhost:8080/"
        },
        "id": "ZaOWv05HIXNZ",
        "outputId": "cf8def35-e532-4f09-8a8e-6cf8344db911"
      },
      "execution_count": 6,
      "outputs": [
        {
          "name": "stdout",
          "output_type": "stream",
          "text": [
            "Embracing the latest trends at Milan Fashion Week! From bold prints to elegant silhouettes, designers showcased a diverse range of styles that are set to dominate the fashion scene this season. The runway was a celebration of creativity and individuality, proving once again that fashion is an ever-evolving form of self-expression. Which looks are you excited to incorporate into your wardrobe?\n"
          ]
        }
      ]
    },
    {
      "cell_type": "code",
      "source": [
        "%%time\n",
        "text_to_generate = f\"extract all possible genre/themes from: {user_caption}\"\n",
        "genre = model.generate_content(text_to_generate)"
      ],
      "metadata": {
        "colab": {
          "base_uri": "https://localhost:8080/",
          "height": 53
        },
        "id": "18Hw4RqTIkb6",
        "outputId": "ee725a0e-fbe7-4e4b-ce05-fe97abfd406d"
      },
      "execution_count": 9,
      "outputs": [
        {
          "output_type": "stream",
          "name": "stdout",
          "text": [
            "CPU times: user 43.6 ms, sys: 7.26 ms, total: 50.8 ms\n",
            "Wall time: 3.02 s\n"
          ]
        }
      ]
    },
    {
      "cell_type": "code",
      "source": [
        "to_markdown(genre.text)"
      ],
      "metadata": {
        "colab": {
          "base_uri": "https://localhost:8080/",
          "height": 184
        },
        "id": "E8IFMJdaI_Vw",
        "outputId": "4304e879-8a1f-4d5d-e30f-bccd3c47851b"
      },
      "execution_count": 10,
      "outputs": [
        {
          "output_type": "execute_result",
          "data": {
            "text/plain": [
              "<IPython.core.display.Markdown object>"
            ],
            "text/markdown": "> - Fashion trends\n> - Bold prints\n> - Elegant silhouettes\n> - Diversity\n> - Creativity\n> - Individuality\n> - Self-expression\n> - Seasonal fashion"
          },
          "metadata": {},
          "execution_count": 10
        }
      ]
    },
    {
      "cell_type": "code",
      "source": [
        "import google.generativeai as genai"
      ],
      "metadata": {
        "id": "ZU4KOYmPBBCG"
      },
      "execution_count": 56,
      "outputs": []
    },
    {
      "cell_type": "code",
      "source": [
        "%%time\n",
        "text_to_generate = f\"generate top trending hashtags on: {genre.text},along with trend analysis,tweets per day presensenting how much in trend the hashtag is in csv format\"\n",
        "response =model.generate_content(text_to_generate)"
      ],
      "metadata": {
        "colab": {
          "base_uri": "https://localhost:8080/",
          "height": 53
        },
        "id": "oxXl8egOJCan",
        "outputId": "35b353e2-8d32-44be-cfbf-6ba46d09ced4"
      },
      "execution_count": 61,
      "outputs": [
        {
          "output_type": "stream",
          "name": "stdout",
          "text": [
            "CPU times: user 41.6 ms, sys: 9.12 ms, total: 50.7 ms\n",
            "Wall time: 4.27 s\n"
          ]
        }
      ]
    },
    {
      "cell_type": "code",
      "source": [
        "to_markdown(response.text)"
      ],
      "metadata": {
        "id": "J6_uFIUPAwbL",
        "outputId": "3a6b0cb5-2c37-48af-96af-01486082ed45",
        "colab": {
          "base_uri": "https://localhost:8080/",
          "height": 359
        }
      },
      "execution_count": 62,
      "outputs": [
        {
          "output_type": "execute_result",
          "data": {
            "text/plain": [
              "<IPython.core.display.Markdown object>"
            ],
            "text/markdown": "> | Hashtag | Trend Analysis | Tweets per Day |\n> |---|---|---|\n> | #FashionTrends | Increasing | 100,000 |\n> | #BoldPrints | Steady | 50,000 |\n> | #ElegantSilhouettes | Increasing | 25,000 |\n> | #Diversity | Increasing | 100,000 |\n> | #Creativity | Increasing | 50,000 |\n> | #Individuality | Increasing | 25,000 |\n> | #SelfExpression | Increasing | 75,000 |\n> | #SeasonalFashion | Steady | 50,000 |\n> | #TrendAnalysis | Increasing | 25,000 |"
          },
          "metadata": {},
          "execution_count": 62
        }
      ]
    },
    {
      "cell_type": "code",
      "source": [],
      "metadata": {
        "id": "O0gS2AK8CH_L"
      },
      "execution_count": null,
      "outputs": []
    }
  ]
}